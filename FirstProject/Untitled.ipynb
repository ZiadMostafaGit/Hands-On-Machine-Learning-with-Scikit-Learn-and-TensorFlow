{
 "cells": [
  {
   "cell_type": "code",
   "execution_count": null,
   "id": "87270491-9b6d-4439-82bf-91167a536d9c",
   "metadata": {},
   "outputs": [],
   "source": []
  }
 ],
 "metadata": {
  "kernelspec": {
   "display_name": "",
   "name": ""
  },
  "language_info": {
   "name": ""
  }
 },
 "nbformat": 4,
 "nbformat_minor": 5
}
